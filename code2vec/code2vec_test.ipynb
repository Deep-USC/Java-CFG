{
  "nbformat": 4,
  "nbformat_minor": 0,
  "metadata": {
    "colab": {
      "name": "code2vec_test.ipynb",
      "provenance": [],
      "collapsed_sections": [],
      "toc_visible": true
    },
    "kernelspec": {
      "name": "python3",
      "display_name": "Python 3"
    },
    "accelerator": "GPU"
  },
  "cells": [
    {
      "cell_type": "markdown",
      "metadata": {
        "id": "SxzB1qYU9Z-v",
        "colab_type": "text"
      },
      "source": [
        "##Step 0: Cloning `code2vec` repository"
      ]
    },
    {
      "cell_type": "code",
      "metadata": {
        "id": "TtbsHiXS6rZV",
        "colab_type": "code",
        "colab": {
          "base_uri": "https://localhost:8080/",
          "height": 157
        },
        "outputId": "df856bdd-57a0-4b7e-9bf2-239d9131d3a6"
      },
      "source": [
        "!git clone https://github.com/tech-srl/code2vec\n",
        "%cd code2vec"
      ],
      "execution_count": 1,
      "outputs": [
        {
          "output_type": "stream",
          "text": [
            "Cloning into 'code2vec'...\n",
            "remote: Enumerating objects: 21, done.\u001b[K\n",
            "remote: Counting objects: 100% (21/21), done.\u001b[K\n",
            "remote: Compressing objects: 100% (20/20), done.\u001b[K\n",
            "remote: Total 689 (delta 5), reused 4 (delta 1), pack-reused 668\u001b[K\n",
            "Receiving objects: 100% (689/689), 5.14 MiB | 23.69 MiB/s, done.\n",
            "Resolving deltas: 100% (403/403), done.\n",
            "/content/code2vec\n"
          ],
          "name": "stdout"
        }
      ]
    },
    {
      "cell_type": "markdown",
      "metadata": {
        "id": "Ba5zWnC49cZ3",
        "colab_type": "text"
      },
      "source": [
        "##Step 1: Creating a new dataset from java sources"
      ]
    },
    {
      "cell_type": "code",
      "metadata": {
        "id": "032ixzy87Q7Q",
        "colab_type": "code",
        "colab": {
          "base_uri": "https://localhost:8080/",
          "height": 298
        },
        "outputId": "34bdf1f0-6229-48a2-a34f-64fe6a5660c9"
      },
      "source": [
        "!wget https://s3.amazonaws.com/code2vec/data/java-small_data.tar.gz\n",
        "!tar -xvzf java-small_data.tar.gz\n",
        "!mkdir data \n",
        "!mv java-small data/"
      ],
      "execution_count": 2,
      "outputs": [
        {
          "output_type": "stream",
          "text": [
            "--2020-06-19 10:13:19--  https://s3.amazonaws.com/code2vec/data/java-small_data.tar.gz\n",
            "Resolving s3.amazonaws.com (s3.amazonaws.com)... 52.216.107.94\n",
            "Connecting to s3.amazonaws.com (s3.amazonaws.com)|52.216.107.94|:443... connected.\n",
            "HTTP request sent, awaiting response... 200 OK\n",
            "Length: 382731969 (365M) [application/x-tar]\n",
            "Saving to: ‘java-small_data.tar.gz’\n",
            "\n",
            "java-small_data.tar 100%[===================>] 365.00M  54.0MB/s    in 6.7s    \n",
            "\n",
            "2020-06-19 10:13:26 (54.1 MB/s) - ‘java-small_data.tar.gz’ saved [382731969/382731969]\n",
            "\n",
            "java-small/\n",
            "java-small/java-small.dict.c2v\n",
            "java-small/java-small.train.c2v\n",
            "java-small/java-small.val.c2v\n",
            "java-small/java-small.test.c2v\n"
          ],
          "name": "stdout"
        }
      ]
    },
    {
      "cell_type": "markdown",
      "metadata": {
        "id": "6-29a2Zu9ewo",
        "colab_type": "text"
      },
      "source": [
        "##Step 2: Cloning `DeepUSC` repository\n",
        "It can be skipped if copy code directly from GitHub.  "
      ]
    },
    {
      "cell_type": "code",
      "metadata": {
        "id": "N8WvvURn7hxv",
        "colab_type": "code",
        "colab": {
          "base_uri": "https://localhost:8080/",
          "height": 122
        },
        "outputId": "331c355d-da50-4e58-a024-c5876a93e16c"
      },
      "source": [
        "!git clone https://github.com/BohuiZhang/DeepUSC.git\n",
        "!mv DeepUSC/code2vec/keras_model_layers.py ."
      ],
      "execution_count": 3,
      "outputs": [
        {
          "output_type": "stream",
          "text": [
            "Cloning into 'DeepUSC'...\n",
            "remote: Enumerating objects: 43, done.\u001b[K\n",
            "remote: Counting objects:   2% (1/43)\u001b[K\rremote: Counting objects:   4% (2/43)\u001b[K\rremote: Counting objects:   6% (3/43)\u001b[K\rremote: Counting objects:   9% (4/43)\u001b[K\rremote: Counting objects:  11% (5/43)\u001b[K\rremote: Counting objects:  13% (6/43)\u001b[K\rremote: Counting objects:  16% (7/43)\u001b[K\rremote: Counting objects:  18% (8/43)\u001b[K\rremote: Counting objects:  20% (9/43)\u001b[K\rremote: Counting objects:  23% (10/43)\u001b[K\rremote: Counting objects:  25% (11/43)\u001b[K\rremote: Counting objects:  27% (12/43)\u001b[K\rremote: Counting objects:  30% (13/43)\u001b[K\rremote: Counting objects:  32% (14/43)\u001b[K\rremote: Counting objects:  34% (15/43)\u001b[K\rremote: Counting objects:  37% (16/43)\u001b[K\rremote: Counting objects:  39% (17/43)\u001b[K\rremote: Counting objects:  41% (18/43)\u001b[K\rremote: Counting objects:  44% (19/43)\u001b[K\rremote: Counting objects:  46% (20/43)\u001b[K\rremote: Counting objects:  48% (21/43)\u001b[K\rremote: Counting objects:  51% (22/43)\u001b[K\rremote: Counting objects:  53% (23/43)\u001b[K\rremote: Counting objects:  55% (24/43)\u001b[K\rremote: Counting objects:  58% (25/43)\u001b[K\rremote: Counting objects:  60% (26/43)\u001b[K\rremote: Counting objects:  62% (27/43)\u001b[K\rremote: Counting objects:  65% (28/43)\u001b[K\rremote: Counting objects:  67% (29/43)\u001b[K\rremote: Counting objects:  69% (30/43)\u001b[K\rremote: Counting objects:  72% (31/43)\u001b[K\rremote: Counting objects:  74% (32/43)\u001b[K\rremote: Counting objects:  76% (33/43)\u001b[K\rremote: Counting objects:  79% (34/43)\u001b[K\rremote: Counting objects:  81% (35/43)\u001b[K\rremote: Counting objects:  83% (36/43)\u001b[K\rremote: Counting objects:  86% (37/43)\u001b[K\rremote: Counting objects:  88% (38/43)\u001b[K\rremote: Counting objects:  90% (39/43)\u001b[K\rremote: Counting objects:  93% (40/43)\u001b[K\rremote: Counting objects:  95% (41/43)\u001b[K\rremote: Counting objects:  97% (42/43)\u001b[K\rremote: Counting objects: 100% (43/43)\u001b[K\rremote: Counting objects: 100% (43/43), done.\u001b[K\n",
            "remote: Compressing objects:   3% (1/30)\u001b[K\rremote: Compressing objects:   6% (2/30)\u001b[K\rremote: Compressing objects:  10% (3/30)\u001b[K\rremote: Compressing objects:  13% (4/30)\u001b[K\rremote: Compressing objects:  16% (5/30)\u001b[K\rremote: Compressing objects:  20% (6/30)\u001b[K\rremote: Compressing objects:  23% (7/30)\u001b[K\rremote: Compressing objects:  26% (8/30)\u001b[K\rremote: Compressing objects:  30% (9/30)\u001b[K\rremote: Compressing objects:  33% (10/30)\u001b[K\rremote: Compressing objects:  36% (11/30)\u001b[K\rremote: Compressing objects:  40% (12/30)\u001b[K\rremote: Compressing objects:  43% (13/30)\u001b[K\rremote: Compressing objects:  46% (14/30)\u001b[K\rremote: Compressing objects:  50% (15/30)\u001b[K\rremote: Compressing objects:  53% (16/30)\u001b[K\rremote: Compressing objects:  56% (17/30)\u001b[K\rremote: Compressing objects:  60% (18/30)\u001b[K\rremote: Compressing objects:  63% (19/30)\u001b[K\rremote: Compressing objects:  66% (20/30)\u001b[K\rremote: Compressing objects:  70% (21/30)\u001b[K\rremote: Compressing objects:  73% (22/30)\u001b[K\rremote: Compressing objects:  76% (23/30)\u001b[K\rremote: Compressing objects:  80% (24/30)\u001b[K\rremote: Compressing objects:  83% (25/30)\u001b[K\rremote: Compressing objects:  86% (26/30)\u001b[K\rremote: Compressing objects:  90% (27/30)\u001b[K\rremote: Compressing objects:  93% (28/30)\u001b[K\rremote: Compressing objects:  96% (29/30)\u001b[K\rremote: Compressing objects: 100% (30/30)\u001b[K\rremote: Compressing objects: 100% (30/30), done.\u001b[K\n",
            "remote: Total 43 (delta 8), reused 38 (delta 6), pack-reused 0\u001b[K\n",
            "Unpacking objects:   2% (1/43)   \rUnpacking objects:   4% (2/43)   \rUnpacking objects:   6% (3/43)   \rUnpacking objects:   9% (4/43)   \rUnpacking objects:  11% (5/43)   \rUnpacking objects:  13% (6/43)   \rUnpacking objects:  16% (7/43)   \rUnpacking objects:  18% (8/43)   \rUnpacking objects:  20% (9/43)   \rUnpacking objects:  23% (10/43)   \rUnpacking objects:  25% (11/43)   \rUnpacking objects:  27% (12/43)   \rUnpacking objects:  30% (13/43)   \rUnpacking objects:  32% (14/43)   \rUnpacking objects:  34% (15/43)   \rUnpacking objects:  37% (16/43)   \rUnpacking objects:  39% (17/43)   \rUnpacking objects:  41% (18/43)   \rUnpacking objects:  44% (19/43)   \rUnpacking objects:  46% (20/43)   \rUnpacking objects:  48% (21/43)   \rUnpacking objects:  51% (22/43)   \rUnpacking objects:  53% (23/43)   \rUnpacking objects:  55% (24/43)   \rUnpacking objects:  58% (25/43)   \rUnpacking objects:  60% (26/43)   \rUnpacking objects:  62% (27/43)   \rUnpacking objects:  65% (28/43)   \rUnpacking objects:  67% (29/43)   \rUnpacking objects:  69% (30/43)   \rUnpacking objects:  72% (31/43)   \rUnpacking objects:  74% (32/43)   \rUnpacking objects:  76% (33/43)   \rUnpacking objects:  79% (34/43)   \rUnpacking objects:  81% (35/43)   \rUnpacking objects:  83% (36/43)   \rUnpacking objects:  86% (37/43)   \rUnpacking objects:  88% (38/43)   \rUnpacking objects:  90% (39/43)   \rUnpacking objects:  93% (40/43)   \rUnpacking objects:  95% (41/43)   \rUnpacking objects:  97% (42/43)   \rUnpacking objects: 100% (43/43)   \rUnpacking objects: 100% (43/43), done.\n"
          ],
          "name": "stdout"
        }
      ]
    },
    {
      "cell_type": "markdown",
      "metadata": {
        "id": "1jGMoyuE88DR",
        "colab_type": "text"
      },
      "source": [
        "##Step 3: Training a model (from scratch)\n",
        "- copy modified part of code from `keras_model_layers.py` to `keras_model.py`\n",
        "- change `type` & `dataset_name` in `train.sh`\n",
        "- change dl-framework in `train.sh` to add `-fw keras`\n",
        "- change epochs number in `config.py` (if needed)"
      ]
    },
    {
      "cell_type": "code",
      "metadata": {
        "id": "fbhiJqEl7--3",
        "colab_type": "code",
        "colab": {
          "base_uri": "https://localhost:8080/",
          "height": 1000
        },
        "outputId": "83e5cd28-94c6-4efe-9789-19088c55f44b"
      },
      "source": [
        "!source train.sh"
      ],
      "execution_count": 24,
      "outputs": [
        {
          "output_type": "stream",
          "text": [
            "2020-06-19 11:12:01.137188: I tensorflow/stream_executor/platform/default/dso_loader.cc:44] Successfully opened dynamic library libcudart.so.10.1\n",
            "2020-06-19 11:12:03,060 INFO     Loading word frequencies dictionaries from: data/java-small/java-small.dict.c2v ... \n",
            "2020-06-19 11:12:03,649 INFO     Done loading word frequencies dictionaries.\n",
            "2020-06-19 11:12:03,649 INFO     Word frequencies dictionaries loaded. Now creating vocabularies.\n",
            "2020-06-19 11:12:04,205 INFO     Created token vocab. size: 507271\n",
            "2020-06-19 11:12:05,144 INFO     Created path vocab. size: 807138\n",
            "2020-06-19 11:12:05,272 INFO     Created target vocab. size: 199748\n",
            "2020-06-19 11:12:05.371841: I tensorflow/stream_executor/platform/default/dso_loader.cc:44] Successfully opened dynamic library libcuda.so.1\n",
            "2020-06-19 11:12:05.392850: I tensorflow/stream_executor/cuda/cuda_gpu_executor.cc:981] successful NUMA node read from SysFS had negative value (-1), but there must be at least one NUMA node, so returning NUMA node zero\n",
            "2020-06-19 11:12:05.393593: I tensorflow/core/common_runtime/gpu/gpu_device.cc:1561] Found device 0 with properties: \n",
            "pciBusID: 0000:00:04.0 name: Tesla K80 computeCapability: 3.7\n",
            "coreClock: 0.8235GHz coreCount: 13 deviceMemorySize: 11.17GiB deviceMemoryBandwidth: 223.96GiB/s\n",
            "2020-06-19 11:12:05.393657: I tensorflow/stream_executor/platform/default/dso_loader.cc:44] Successfully opened dynamic library libcudart.so.10.1\n",
            "2020-06-19 11:12:05.395276: I tensorflow/stream_executor/platform/default/dso_loader.cc:44] Successfully opened dynamic library libcublas.so.10\n",
            "2020-06-19 11:12:05.396878: I tensorflow/stream_executor/platform/default/dso_loader.cc:44] Successfully opened dynamic library libcufft.so.10\n",
            "2020-06-19 11:12:05.397225: I tensorflow/stream_executor/platform/default/dso_loader.cc:44] Successfully opened dynamic library libcurand.so.10\n",
            "2020-06-19 11:12:05.398776: I tensorflow/stream_executor/platform/default/dso_loader.cc:44] Successfully opened dynamic library libcusolver.so.10\n",
            "2020-06-19 11:12:05.399548: I tensorflow/stream_executor/platform/default/dso_loader.cc:44] Successfully opened dynamic library libcusparse.so.10\n",
            "2020-06-19 11:12:05.402604: I tensorflow/stream_executor/platform/default/dso_loader.cc:44] Successfully opened dynamic library libcudnn.so.7\n",
            "2020-06-19 11:12:05.402747: I tensorflow/stream_executor/cuda/cuda_gpu_executor.cc:981] successful NUMA node read from SysFS had negative value (-1), but there must be at least one NUMA node, so returning NUMA node zero\n",
            "2020-06-19 11:12:05.403499: I tensorflow/stream_executor/cuda/cuda_gpu_executor.cc:981] successful NUMA node read from SysFS had negative value (-1), but there must be at least one NUMA node, so returning NUMA node zero\n",
            "2020-06-19 11:12:05.404201: I tensorflow/core/common_runtime/gpu/gpu_device.cc:1703] Adding visible gpu devices: 0\n",
            "2020-06-19 11:12:05.409355: I tensorflow/core/platform/profile_utils/cpu_utils.cc:102] CPU Frequency: 2300000000 Hz\n",
            "2020-06-19 11:12:05.409925: I tensorflow/compiler/xla/service/service.cc:168] XLA service 0x2d4b480 initialized for platform Host (this does not guarantee that XLA will be used). Devices:\n",
            "2020-06-19 11:12:05.409963: I tensorflow/compiler/xla/service/service.cc:176]   StreamExecutor device (0): Host, Default Version\n",
            "2020-06-19 11:12:05.460910: I tensorflow/stream_executor/cuda/cuda_gpu_executor.cc:981] successful NUMA node read from SysFS had negative value (-1), but there must be at least one NUMA node, so returning NUMA node zero\n",
            "2020-06-19 11:12:05.461779: I tensorflow/compiler/xla/service/service.cc:168] XLA service 0x2d4b640 initialized for platform CUDA (this does not guarantee that XLA will be used). Devices:\n",
            "2020-06-19 11:12:05.461916: I tensorflow/compiler/xla/service/service.cc:176]   StreamExecutor device (0): Tesla K80, Compute Capability 3.7\n",
            "2020-06-19 11:12:05.462176: I tensorflow/stream_executor/cuda/cuda_gpu_executor.cc:981] successful NUMA node read from SysFS had negative value (-1), but there must be at least one NUMA node, so returning NUMA node zero\n",
            "2020-06-19 11:12:05.463012: I tensorflow/core/common_runtime/gpu/gpu_device.cc:1561] Found device 0 with properties: \n",
            "pciBusID: 0000:00:04.0 name: Tesla K80 computeCapability: 3.7\n",
            "coreClock: 0.8235GHz coreCount: 13 deviceMemorySize: 11.17GiB deviceMemoryBandwidth: 223.96GiB/s\n",
            "2020-06-19 11:12:05.463072: I tensorflow/stream_executor/platform/default/dso_loader.cc:44] Successfully opened dynamic library libcudart.so.10.1\n",
            "2020-06-19 11:12:05.463163: I tensorflow/stream_executor/platform/default/dso_loader.cc:44] Successfully opened dynamic library libcublas.so.10\n",
            "2020-06-19 11:12:05.463213: I tensorflow/stream_executor/platform/default/dso_loader.cc:44] Successfully opened dynamic library libcufft.so.10\n",
            "2020-06-19 11:12:05.463261: I tensorflow/stream_executor/platform/default/dso_loader.cc:44] Successfully opened dynamic library libcurand.so.10\n",
            "2020-06-19 11:12:05.463309: I tensorflow/stream_executor/platform/default/dso_loader.cc:44] Successfully opened dynamic library libcusolver.so.10\n",
            "2020-06-19 11:12:05.463356: I tensorflow/stream_executor/platform/default/dso_loader.cc:44] Successfully opened dynamic library libcusparse.so.10\n",
            "2020-06-19 11:12:05.463423: I tensorflow/stream_executor/platform/default/dso_loader.cc:44] Successfully opened dynamic library libcudnn.so.7\n",
            "2020-06-19 11:12:05.463551: I tensorflow/stream_executor/cuda/cuda_gpu_executor.cc:981] successful NUMA node read from SysFS had negative value (-1), but there must be at least one NUMA node, so returning NUMA node zero\n",
            "2020-06-19 11:12:05.464436: I tensorflow/stream_executor/cuda/cuda_gpu_executor.cc:981] successful NUMA node read from SysFS had negative value (-1), but there must be at least one NUMA node, so returning NUMA node zero\n",
            "2020-06-19 11:12:05.465151: I tensorflow/core/common_runtime/gpu/gpu_device.cc:1703] Adding visible gpu devices: 0\n",
            "2020-06-19 11:12:05.465210: I tensorflow/stream_executor/platform/default/dso_loader.cc:44] Successfully opened dynamic library libcudart.so.10.1\n",
            "2020-06-19 11:12:05.849752: I tensorflow/core/common_runtime/gpu/gpu_device.cc:1102] Device interconnect StreamExecutor with strength 1 edge matrix:\n",
            "2020-06-19 11:12:05.849813: I tensorflow/core/common_runtime/gpu/gpu_device.cc:1108]      0 \n",
            "2020-06-19 11:12:05.849838: I tensorflow/core/common_runtime/gpu/gpu_device.cc:1121] 0:   N \n",
            "2020-06-19 11:12:05.850071: I tensorflow/stream_executor/cuda/cuda_gpu_executor.cc:981] successful NUMA node read from SysFS had negative value (-1), but there must be at least one NUMA node, so returning NUMA node zero\n",
            "2020-06-19 11:12:05.850880: I tensorflow/stream_executor/cuda/cuda_gpu_executor.cc:981] successful NUMA node read from SysFS had negative value (-1), but there must be at least one NUMA node, so returning NUMA node zero\n",
            "2020-06-19 11:12:05.851570: W tensorflow/core/common_runtime/gpu/gpu_bfc_allocator.cc:39] Overriding allow_growth setting because the TF_FORCE_GPU_ALLOW_GROWTH environment variable is set. Original config value was 0.\n",
            "2020-06-19 11:12:05.851652: I tensorflow/core/common_runtime/gpu/gpu_device.cc:1247] Created TensorFlow device (/job:localhost/replica:0/task:0/device:GPU:0 with 10634 MB memory) -> physical GPU (device: 0, name: Tesla K80, pci bus id: 0000:00:04.0, compute capability: 3.7)\n",
            "2020-06-19 11:12:05,960 INFO     \n",
            "2020-06-19 11:12:05,960 INFO     \n",
            "2020-06-19 11:12:05,960 INFO     ---------------------------------------------------------------------\n",
            "2020-06-19 11:12:05,960 INFO     ---------------------------------------------------------------------\n",
            "2020-06-19 11:12:05,961 INFO     ---------------------- Creating code2vec model ----------------------\n",
            "2020-06-19 11:12:05,961 INFO     ---------------------------------------------------------------------\n",
            "2020-06-19 11:12:05,961 INFO     ---------------------------------------------------------------------\n",
            "2020-06-19 11:12:05,961 INFO     Checking number of examples ...\n",
            "2020-06-19 11:12:05,961 INFO         Number of train examples: 665115\n",
            "2020-06-19 11:12:05,961 INFO         Number of test examples: 23505\n",
            "2020-06-19 11:12:05,961 INFO     ---------------------------------------------------------------------\n",
            "2020-06-19 11:12:05,961 INFO     ----------------- Configuration - Hyper Parameters ------------------\n",
            "2020-06-19 11:12:05,962 INFO     CODE_VECTOR_SIZE                          384\n",
            "2020-06-19 11:12:05,962 INFO     CSV_BUFFER_SIZE                           104857600\n",
            "2020-06-19 11:12:05,962 INFO     DEFAULT_EMBEDDINGS_SIZE                   128\n",
            "2020-06-19 11:12:05,962 INFO     DL_FRAMEWORK                              keras\n",
            "2020-06-19 11:12:05,962 INFO     DROPOUT_KEEP_RATE                         0.75\n",
            "2020-06-19 11:12:05,962 INFO     EXPORT_CODE_VECTORS                       False\n",
            "2020-06-19 11:12:05,963 INFO     LOGS_PATH                                 None\n",
            "2020-06-19 11:12:05,963 INFO     MAX_CONTEXTS                              200\n",
            "2020-06-19 11:12:05,963 INFO     MAX_PATH_VOCAB_SIZE                       911417\n",
            "2020-06-19 11:12:05,963 INFO     MAX_TARGET_VOCAB_SIZE                     261245\n",
            "2020-06-19 11:12:05,963 INFO     MAX_TOKEN_VOCAB_SIZE                      1301136\n",
            "2020-06-19 11:12:05,963 INFO     MAX_TO_KEEP                               10\n",
            "2020-06-19 11:12:05,963 INFO     MODEL_LOAD_PATH                           None\n",
            "2020-06-19 11:12:05,963 INFO     MODEL_SAVE_PATH                           models/java-small/saved_model\n",
            "2020-06-19 11:12:05,964 INFO     NUM_BATCHES_TO_LOG_PROGRESS               100\n",
            "2020-06-19 11:12:05,964 INFO     NUM_TEST_EXAMPLES                         23505\n",
            "2020-06-19 11:12:05,964 INFO     NUM_TRAIN_BATCHES_TO_EVALUATE             1800\n",
            "2020-06-19 11:12:05,964 INFO     NUM_TRAIN_EPOCHS                          20\n",
            "2020-06-19 11:12:05,964 INFO     NUM_TRAIN_EXAMPLES                        665115\n",
            "2020-06-19 11:12:05,964 INFO     PATH_EMBEDDINGS_SIZE                      128\n",
            "2020-06-19 11:12:05,964 INFO     PREDICT                                   False\n",
            "2020-06-19 11:12:05,964 INFO     READER_NUM_PARALLEL_BATCHES               6\n",
            "2020-06-19 11:12:05,964 INFO     RELEASE                                   False\n",
            "2020-06-19 11:12:05,964 INFO     SAVE_EVERY_EPOCHS                         1\n",
            "2020-06-19 11:12:05,965 INFO     SAVE_T2V                                  None\n",
            "2020-06-19 11:12:05,965 INFO     SAVE_W2V                                  None\n",
            "2020-06-19 11:12:05,965 INFO     SEPARATE_OOV_AND_PAD                      False\n",
            "2020-06-19 11:12:05,965 INFO     SHUFFLE_BUFFER_SIZE                       10000\n",
            "2020-06-19 11:12:05,965 INFO     TARGET_EMBEDDINGS_SIZE                    384\n",
            "2020-06-19 11:12:05,965 INFO     TEST_BATCH_SIZE                           1024\n",
            "2020-06-19 11:12:05,965 INFO     TEST_DATA_PATH                            data/java-small/java-small.val.c2v\n",
            "2020-06-19 11:12:05,965 INFO     TOKEN_EMBEDDINGS_SIZE                     128\n",
            "2020-06-19 11:12:05,965 INFO     TOP_K_WORDS_CONSIDERED_DURING_PREDICTION  10\n",
            "2020-06-19 11:12:05,965 INFO     TRAIN_BATCH_SIZE                          1024\n",
            "2020-06-19 11:12:05,966 INFO     TRAIN_DATA_PATH_PREFIX                    data/java-small/java-small\n",
            "2020-06-19 11:12:05,966 INFO     USE_TENSORBOARD                           False\n",
            "2020-06-19 11:12:05,966 INFO     VERBOSE_MODE                              1\n",
            "2020-06-19 11:12:05,966 INFO     _Config__logger                           <Logger code2vec (INFO)>\n",
            "2020-06-19 11:12:05,966 INFO     context_vector_size                       384\n",
            "2020-06-19 11:12:05,966 INFO     entire_model_load_path                    None\n",
            "2020-06-19 11:12:05,966 INFO     entire_model_save_path                    models/java-small/saved_model__entire-model\n",
            "2020-06-19 11:12:05,966 INFO     is_loading                                False\n",
            "2020-06-19 11:12:05,966 INFO     is_saving                                 True\n",
            "2020-06-19 11:12:05,966 INFO     is_testing                                True\n",
            "2020-06-19 11:12:05,966 INFO     is_training                               True\n",
            "2020-06-19 11:12:05,967 INFO     model_load_dir                            None\n",
            "2020-06-19 11:12:05,967 INFO     model_weights_load_path                   None\n",
            "2020-06-19 11:12:05,967 INFO     model_weights_save_path                   models/java-small/saved_model__only-weights\n",
            "2020-06-19 11:12:05,967 INFO     test_steps                                23\n",
            "2020-06-19 11:12:05,967 INFO     train_data_path                           data/java-small/java-small.train.c2v\n",
            "2020-06-19 11:12:05,967 INFO     train_steps_per_epoch                     650\n",
            "2020-06-19 11:12:05,967 INFO     word_freq_dict_path                       data/java-small/java-small.dict.c2v\n",
            "2020-06-19 11:12:05,967 INFO     ---------------------------------------------------------------------\n",
            "2020-06-19 11:12:05,967 INFO     Loading word frequencies dictionaries from: data/java-small/java-small.dict.c2v ... \n",
            "2020-06-19 11:12:06,555 INFO     Done loading word frequencies dictionaries.\n",
            "2020-06-19 11:12:06,555 INFO     Word frequencies dictionaries loaded. Now creating vocabularies.\n",
            "2020-06-19 11:12:07,095 INFO     Created token vocab. size: 507271\n",
            "2020-06-19 11:12:07,997 INFO     Created path vocab. size: 807138\n",
            "2020-06-19 11:12:08,126 INFO     Created target vocab. size: 199748\n",
            "2020-06-19 11:12:10,686 INFO     Model: \"model\"\n",
            "2020-06-19 11:12:10,687 INFO     __________________________________________________________________________________________________\n",
            "2020-06-19 11:12:10,687 INFO     Layer (type)                    Output Shape         Param #     Connected to                     \n",
            "2020-06-19 11:12:10,687 INFO     ==================================================================================================\n",
            "2020-06-19 11:12:10,687 INFO     input_1 (InputLayer)            [(None, 200)]        0                                            \n",
            "2020-06-19 11:12:10,687 INFO     __________________________________________________________________________________________________\n",
            "2020-06-19 11:12:10,687 INFO     input_2 (InputLayer)            [(None, 200)]        0                                            \n",
            "2020-06-19 11:12:10,687 INFO     __________________________________________________________________________________________________\n",
            "2020-06-19 11:12:10,688 INFO     input_3 (InputLayer)            [(None, 200)]        0                                            \n",
            "2020-06-19 11:12:10,688 INFO     __________________________________________________________________________________________________\n",
            "2020-06-19 11:12:10,688 INFO     token_embedding (Embedding)     (None, 200, 128)     64930688    input_1[0][0]                    \n",
            "2020-06-19 11:12:10,688 INFO                                                                      input_3[0][0]                    \n",
            "2020-06-19 11:12:10,688 INFO     __________________________________________________________________________________________________\n",
            "2020-06-19 11:12:10,688 INFO     path_embedding (Embedding)      (None, 200, 128)     103313664   input_2[0][0]                    \n",
            "2020-06-19 11:12:10,688 INFO     __________________________________________________________________________________________________\n",
            "2020-06-19 11:12:10,689 INFO     concatenate (Concatenate)       (None, 200, 384)     0           token_embedding[0][0]            \n",
            "2020-06-19 11:12:10,689 INFO                                                                      path_embedding[0][0]             \n",
            "2020-06-19 11:12:10,689 INFO                                                                      token_embedding[1][0]            \n",
            "2020-06-19 11:12:10,689 INFO     __________________________________________________________________________________________________\n",
            "2020-06-19 11:12:10,689 INFO     dropout (Dropout)               (None, 200, 384)     0           concatenate[0][0]                \n",
            "2020-06-19 11:12:10,689 INFO     __________________________________________________________________________________________________\n",
            "2020-06-19 11:12:10,689 INFO     time_distributed (TimeDistribut (None, 200, 384)     147456      dropout[0][0]                    \n",
            "2020-06-19 11:12:10,689 INFO     __________________________________________________________________________________________________\n",
            "2020-06-19 11:12:10,690 INFO     input_4 (InputLayer)            [(None, 200)]        0                                            \n",
            "2020-06-19 11:12:10,690 INFO     __________________________________________________________________________________________________\n",
            "2020-06-19 11:12:10,690 INFO     attention (AttentionLayer)      ((None, 384), (None, 384         time_distributed[0][0]           \n",
            "2020-06-19 11:12:10,690 INFO                                                                      input_4[0][0]                    \n",
            "2020-06-19 11:12:10,690 INFO     __________________________________________________________________________________________________\n",
            "2020-06-19 11:12:10,690 INFO     target_index (Dense)            (None, 199748)       76703232    attention[0][0]                  \n",
            "2020-06-19 11:12:10,691 INFO     ==================================================================================================\n",
            "2020-06-19 11:12:10,691 INFO     Total params: 245,095,424\n",
            "2020-06-19 11:12:10,691 INFO     Trainable params: 245,095,424\n",
            "2020-06-19 11:12:10,691 INFO     Non-trainable params: 0\n",
            "2020-06-19 11:12:10,691 INFO     __________________________________________________________________________________________________\n",
            "2020-06-19 11:12:12,360 INFO     Lookup tables created.\n",
            "2020-06-19 11:12:12,360 INFO     Done creating code2vec model\n",
            "2020-06-19 11:12:13,638 INFO     Starting training...\n",
            "Epoch 1/20\n",
            "2020-06-19 11:12:15.154277: I tensorflow/stream_executor/platform/default/dso_loader.cc:44] Successfully opened dynamic library libcublas.so.10\n",
            " 99/650 [===>..........................] - ETA: 17:11 - loss: 10.51012020-06-19 11:15:26,191 INFO     Train: during epoch #1 batch 100/650 (15%) -- throughput (#samples/sec): 531 -- epoch ETA: 0:17:38 -- loss: 11.4829\n",
            "199/650 [========>.....................] - ETA: 14:06 - loss: 9.64382020-06-19 11:18:34,333 INFO     Train: during epoch #1 batch 200/650 (30%) -- throughput (#samples/sec): 544 -- epoch ETA: 0:14:16 -- loss: 10.0189\n",
            "246/650 [==========>...................] - ETA: 12:39 - loss: 9.7285Traceback (most recent call last):\n",
            "  File \"code2vec.py\", line 23, in <module>\n",
            "    model.train()\n",
            "  File \"/content/code2vec/keras_model.py\", line 188, in train\n",
            "    callbacks=self._create_train_callbacks())\n",
            "  File \"/usr/local/lib/python3.6/dist-packages/tensorflow/python/keras/engine/training.py\", line 66, in _method_wrapper\n",
            "    return method(self, *args, **kwargs)\n",
            "  File \"/usr/local/lib/python3.6/dist-packages/tensorflow/python/keras/engine/training.py\", line 848, in fit\n",
            "    tmp_logs = train_function(iterator)\n",
            "  File \"/usr/local/lib/python3.6/dist-packages/tensorflow/python/eager/def_function.py\", line 580, in __call__\n",
            "    result = self._call(*args, **kwds)\n",
            "  File \"/usr/local/lib/python3.6/dist-packages/tensorflow/python/eager/def_function.py\", line 611, in _call\n",
            "    return self._stateless_fn(*args, **kwds)  # pylint: disable=not-callable\n",
            "  File \"/usr/local/lib/python3.6/dist-packages/tensorflow/python/eager/function.py\", line 2420, in __call__\n",
            "    return graph_function._filtered_call(args, kwargs)  # pylint: disable=protected-access\n",
            "  File \"/usr/local/lib/python3.6/dist-packages/tensorflow/python/eager/function.py\", line 1665, in _filtered_call\n",
            "    self.captured_inputs)\n",
            "  File \"/usr/local/lib/python3.6/dist-packages/tensorflow/python/eager/function.py\", line 1746, in _call_flat\n",
            "    ctx, args, cancellation_manager=cancellation_manager))\n",
            "  File \"/usr/local/lib/python3.6/dist-packages/tensorflow/python/eager/function.py\", line 598, in call\n",
            "    ctx=ctx)\n",
            "  File \"/usr/local/lib/python3.6/dist-packages/tensorflow/python/eager/execute.py\", line 60, in quick_execute\n",
            "    inputs, attrs, num_outputs)\n",
            "KeyboardInterrupt\n"
          ],
          "name": "stdout"
        }
      ]
    },
    {
      "cell_type": "markdown",
      "metadata": {
        "id": "xeJAo8XoTV2h",
        "colab_type": "text"
      },
      "source": [
        "##Step 4: Evaluation"
      ]
    },
    {
      "cell_type": "code",
      "metadata": {
        "id": "YCyJE4HVTU_X",
        "colab_type": "code",
        "colab": {}
      },
      "source": [
        "!python3 code2vec.py --load models/java-small/saved_model_iter2 --release\n",
        "!python3 code2vec.py --load models/java-small/saved_model_iter2.release --test data/java-small/java-small.test.c2v"
      ],
      "execution_count": null,
      "outputs": []
    }
  ]
}